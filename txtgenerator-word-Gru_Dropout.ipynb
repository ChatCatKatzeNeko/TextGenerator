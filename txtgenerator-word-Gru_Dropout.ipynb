{
 "cells": [
  {
   "cell_type": "code",
   "execution_count": 79,
   "metadata": {},
   "outputs": [],
   "source": [
    "import numpy as np\n",
    "\n",
    "import random\n",
    "import datetime\n",
    "\n",
    "from gensim.models import Word2Vec\n",
    "from nltk import word_tokenize, sent_tokenize\n",
    "\n",
    "import tensorflow as tf\n",
    "import tensorflow.contrib.rnn as rnn\n",
    "\n",
    "import matplotlib.pyplot as plt"
   ]
  },
  {
   "cell_type": "code",
   "execution_count": 2,
   "metadata": {
    "collapsed": true
   },
   "outputs": [],
   "source": [
    "np.random.seed(2018)"
   ]
  },
  {
   "cell_type": "code",
   "execution_count": 3,
   "metadata": {
    "collapsed": true
   },
   "outputs": [],
   "source": [
    "txt = open(\"theLordOfTheRings.txt\", 'r')\n",
    "data = txt.read()\n",
    "data = data.lower()"
   ]
  },
  {
   "cell_type": "code",
   "execution_count": 4,
   "metadata": {
    "collapsed": true
   },
   "outputs": [],
   "source": [
    "sentences = sent_tokenize(data)\n",
    "words = word_tokenize(data)"
   ]
  },
  {
   "cell_type": "code",
   "execution_count": 5,
   "metadata": {
    "collapsed": true
   },
   "outputs": [],
   "source": [
    "sentences_break_down = [word_tokenize(sentence) for sentence in sentences] "
   ]
  },
  {
   "cell_type": "code",
   "execution_count": 6,
   "metadata": {
    "collapsed": true
   },
   "outputs": [],
   "source": [
    "emb_dim = 300 # length of each word vector"
   ]
  },
  {
   "cell_type": "code",
   "execution_count": 7,
   "metadata": {
    "collapsed": true
   },
   "outputs": [],
   "source": [
    "model = Word2Vec(sentences_break_down,\n",
    "                 sg=1,\n",
    "                 size=emb_dim,\n",
    "                 window=3,\n",
    "                 alpha=0.0005,\n",
    "                 min_count=1,\n",
    "                 workers=8,\n",
    "                 batch_words=1500\n",
    "                 )"
   ]
  },
  {
   "cell_type": "code",
   "execution_count": 8,
   "metadata": {},
   "outputs": [
    {
     "name": "stdout",
     "output_type": "stream",
     "text": [
      "9870\n"
     ]
    }
   ],
   "source": [
    "vocab_size = len(list(model.wv.vocab))\n",
    "print(vocab_size)\n",
    "\n",
    "vocab = list(model.wv.vocab.keys())"
   ]
  },
  {
   "cell_type": "code",
   "execution_count": 9,
   "metadata": {},
   "outputs": [
    {
     "data": {
      "text/plain": [
       "(37466189, 54575500)"
      ]
     },
     "execution_count": 9,
     "metadata": {},
     "output_type": "execute_result"
    }
   ],
   "source": [
    "model.train(sentences_break_down, total_words=vocab_size, epochs=250)"
   ]
  },
  {
   "cell_type": "code",
   "execution_count": 10,
   "metadata": {},
   "outputs": [
    {
     "data": {
      "text/plain": [
       "[('boromir', 0.9888407588005066),\n",
       " ('aragorn', 0.9885234236717224),\n",
       " ('gimli', 0.9864516258239746),\n",
       " ('legolas', 0.9828614592552185),\n",
       " ('pippin', 0.9820834994316101),\n",
       " ('sam', 0.9729862213134766),\n",
       " ('strider', 0.9723973274230957),\n",
       " ('haldir', 0.9661816954612732),\n",
       " ('tom', 0.9613646864891052),\n",
       " ('butterbur', 0.9604867696762085)]"
      ]
     },
     "execution_count": 10,
     "metadata": {},
     "output_type": "execute_result"
    }
   ],
   "source": [
    "model.wv.most_similar(positive=\"merry\")"
   ]
  },
  {
   "cell_type": "code",
   "execution_count": 11,
   "metadata": {
    "collapsed": true
   },
   "outputs": [],
   "source": [
    "idWordsDict = dict((Id, word) for Id, word in enumerate(vocab))\n",
    "wordsIdDict = dict((word, Id) for Id, word in enumerate(vocab))\n",
    "idVectDict = dict((Id, vect.reshape(1,len(vect))) for Id, vect in enumerate(model.wv[vocab]))   # length of the 3 dictionaries: 10883"
   ]
  },
  {
   "cell_type": "code",
   "execution_count": 33,
   "metadata": {
    "collapsed": true
   },
   "outputs": [],
   "source": [
    "# sample a word from the distribution of a predicted probability\n",
    "# \"prediction\" is of shape (1, vocab_size)\n",
    "def sample(prediction):\n",
    "    r = random.uniform(0,1)\n",
    "    s = 0\n",
    "    word_id = 0\n",
    "    for i in range(len(prediction[0])):\n",
    "        s += prediction[0,i]\n",
    "        if s >= r:\n",
    "            word_id = i\n",
    "            break\n",
    "    return word_id"
   ]
  },
  {
   "cell_type": "code",
   "execution_count": 65,
   "metadata": {
    "collapsed": true
   },
   "outputs": [],
   "source": [
    "section_len = 12 # group words as a section\n",
    "skip = 10\n",
    "sections = []\n",
    "labels = []\n",
    "for i in range(0, len(words)-section_len, skip):\n",
    "    sections.append(words[i:i+section_len])\n",
    "    labels.append(words[i+section_len])"
   ]
  },
  {
   "cell_type": "code",
   "execution_count": 66,
   "metadata": {
    "collapsed": true
   },
   "outputs": [],
   "source": [
    "nb_sections = len(labels)\n",
    "\n",
    "history_words = np.zeros((nb_sections, section_len, emb_dim))\n",
    "current_words = np.zeros((nb_sections, vocab_size))\n",
    "\n",
    "for i in range(nb_sections):\n",
    "    history_words[i,:,:] = model.wv[sections[i]]\n",
    "    current_words[i,wordsIdDict[labels[i]]] = 1"
   ]
  },
  {
   "cell_type": "code",
   "execution_count": 67,
   "metadata": {},
   "outputs": [
    {
     "data": {
      "text/plain": [
       "(43659, 10, 300)"
      ]
     },
     "execution_count": 67,
     "metadata": {},
     "output_type": "execute_result"
    }
   ],
   "source": [
    "history_words.shape"
   ]
  },
  {
   "cell_type": "code",
   "execution_count": 68,
   "metadata": {},
   "outputs": [
    {
     "data": {
      "text/plain": [
       "(43659, 9870)"
      ]
     },
     "execution_count": 68,
     "metadata": {},
     "output_type": "execute_result"
    }
   ],
   "source": [
    "current_words.shape"
   ]
  },
  {
   "cell_type": "code",
   "execution_count": 73,
   "metadata": {
    "collapsed": true
   },
   "outputs": [],
   "source": [
    "# Gru generating network settings\n",
    "batch_size = 400\n",
    "hidden_nodes = 2048\n",
    "nb_iter = 3000    # this is NOT the nb of epochs, it is the nb of batches to run in the training process\n",
    "lr = 0.002\n",
    "proba = 0.5\n",
    "nb_layers = 2\n",
    "log_every = 50\n",
    "checkpoint_every = 100\n",
    "checkpoint_directory = 'checkpts2'"
   ]
  },
  {
   "cell_type": "code",
   "execution_count": 74,
   "metadata": {
    "collapsed": true
   },
   "outputs": [],
   "source": [
    "# create checkpoints dir.\n",
    "if tf.gfile.Exists(checkpoint_directory):\n",
    "    tf.gfile.DeleteRecursively(checkpoint_directory)\n",
    "tf.gfile.MkDir(checkpoint_directory)    "
   ]
  },
  {
   "cell_type": "code",
   "execution_count": 76,
   "metadata": {},
   "outputs": [],
   "source": [
    "# build graph\n",
    "\n",
    "graph = tf.Graph()\n",
    "with graph.as_default():\n",
    "    \n",
    "    '''\n",
    "    placeholders\n",
    "    '''\n",
    "    train_data = tf.placeholder(tf.float32, [batch_size, section_len, emb_dim])\n",
    "    train_labels = tf.placeholder(tf.float32, [batch_size, vocab_size])\n",
    "    \n",
    "    test_data = tf.placeholder(tf.float32, shape=[1,section_len, emb_dim])\n",
    "    \n",
    "    keep_proba = tf.placeholder(tf.float32)\n",
    "    \n",
    "    \n",
    "    \n",
    "    '''\n",
    "    define global step and GRU-Dropout cell\n",
    "    '''\n",
    "    global_step = tf.Variable(0)\n",
    "    \n",
    "    def GRU_Dropout(nb_hidden_nodes, keep_prob):\n",
    "        cell = rnn.GRUCell(nb_hidden_nodes)\n",
    "        cell = rnn.DropoutWrapper(cell,output_keep_prob=keep_prob)\n",
    "        return cell\n",
    "    \n",
    "    \n",
    "               \n",
    "    '''\n",
    "    GRU_Dropout layer feed forward\n",
    "    '''\n",
    "    # 2 layers: [GRU , Dropout] -> [GRU , Dropout]\n",
    "    stacked_GRUs = rnn.MultiRNNCell([GRU_Dropout(hidden_nodes, keep_proba) for _ in range(nb_layers)],\n",
    "                                    state_is_tuple=True)\n",
    "    init_state = stacked_GRUs.zero_state(batch_size, dtype=tf.float32)\n",
    "\n",
    "    state = init_state\n",
    "    output = tf.zeros([batch_size, hidden_nodes])\n",
    "    for i in range(section_len):\n",
    "        output, state = stacked_GRUs(train_data[:,i,:],state)\n",
    "    \n",
    "    '''\n",
    "    fully connected layer feed forward\n",
    "    ''' \n",
    "    w = tf.Variable(tf.truncated_normal([hidden_nodes, vocab_size], -0.3, 0.3))\n",
    "    b = tf.Variable(tf.zeros([vocab_size]))\n",
    "    \n",
    "    \n",
    "    '''\n",
    "    train\n",
    "    '''\n",
    "    predictions = tf.matmul(output, w) + b\n",
    "    loss = tf.reduce_mean(tf.nn.softmax_cross_entropy_with_logits(labels=train_labels, logits=predictions))\n",
    "    optimizer = tf.train.AdamOptimizer(learning_rate=lr).minimize(loss, global_step=global_step)\n",
    "    \n",
    "    \n",
    "    \n",
    "    '''\n",
    "    test\n",
    "    '''\n",
    "    test_state = stacked_GRUs.zero_state(1, dtype=tf.float32)\n",
    "    test_output = tf.Variable(tf.zeros([section_len, hidden_nodes]))\n",
    "    \n",
    "\n",
    "    for i in range(section_len):\n",
    "        test_output, test_state = stacked_GRUs(test_data[:,i,:], test_state)\n",
    "        \n",
    "        \n",
    "    test_prediction = tf.nn.softmax(tf.matmul(test_output, w) + b)\n",
    "    "
   ]
  },
  {
   "cell_type": "code",
   "execution_count": 80,
   "metadata": {},
   "outputs": [
    {
     "data": {
      "image/png": "[encoded data removed]",
      "text/plain": [
       "<matplotlib.figure.Figure at 0x1c6aef86a0>"
      ]
     },
     "metadata": {},
     "output_type": "display_data"
    }
   ],
   "source": [
    "with tf.Session(graph=graph) as sess:\n",
    "\n",
    "    tf.global_variables_initializer().run()\n",
    "    offset = 0\n",
    "    saver = tf.train.Saver()\n",
    "    \n",
    "    losses = []\n",
    "    \n",
    "    hist_len = len(history_words)\n",
    "    \n",
    "    # for each training step\n",
    "    for step in range(nb_iter):\n",
    "        \n",
    "        # starts off as 0\n",
    "        offset = offset % hist_len\n",
    "        \n",
    "        # calculate batch data and labels to feed model iteratively\n",
    "        if offset <= (hist_len - batch_size):\n",
    "            # first parts\n",
    "            batch_data = history_words[offset: offset + batch_size]\n",
    "            batch_labels = current_words[offset: offset + batch_size]\n",
    "            offset += batch_size\n",
    "\n",
    "        else:\n",
    "            # the last part\n",
    "            to_add = batch_size - (hist_len - offset)\n",
    "            batch_data = np.concatenate((history_words[offset: hist_len], history_words[0: to_add]))\n",
    "            batch_labels = np.concatenate((current_words[offset: hist_len], current_words[0: to_add]))\n",
    "            offset = to_add\n",
    "        \n",
    "        _, training_loss = sess.run([optimizer, loss], feed_dict={train_data: batch_data, train_labels: batch_labels, \n",
    "                                                                  keep_proba: proba})\n",
    "        losses.append(training_loss)\n",
    "        \n",
    "        if step % 20 == 0:\n",
    "            print('training loss at step %d: %.3f (%s)' % (step, training_loss, datetime.datetime.now()))\n",
    "\n",
    "            if step % checkpoint_every == 0:\n",
    "                saver.save(sess, checkpoint_directory + '/model', global_step=step)\n",
    "    print('training loss at step %d: %.2f (%s)' % (nb_iter, training_loss, datetime.datetime.now()))\n",
    "\n",
    "    plt.plot(np.arange(nb_iter), losses)\n",
    "    plt.title('Learning Curve')\n",
    "    plt.show()"
   ]
  },
  {
   "cell_type": "code",
   "execution_count": 81,
   "metadata": {
    "collapsed": true
   },
   "outputs": [],
   "source": [
    "test_start = 'gandalf was reading the riddle written on the stone in elvish and has understood nothing but '"
   ]
  },
  {
   "cell_type": "code",
   "execution_count": 82,
   "metadata": {
    "scrolled": true
   },
   "outputs": [
    {
     "name": "stdout",
     "output_type": "stream",
     "text": [
      "INFO:tensorflow:Restoring parameters from checkpts2/model-1900\n",
      "gandalf was reading the riddle written on the stone in elvish and has understood nothing but 'strider to strands fleeing ' said gandalf , and pippin looked out . 'now soon did hear what if them , ' said gandalf . 'neither have been the fortnight place in the minds of men . the return mountains mountains they windings grows against the dark and naked ; and the lingering grew the eastern in the night . the river was fetched of snow in the night , and without the secrecy . ’ he said . 'you must you have been here , but come , break may day gimli , and the others have come to look on the ground . we can send telling on again . i can get in perhaps the land , and we want get in hobbiton , and the paths in the mountains above the wild land in the return ; glistening of black folk , lantern-light shone bofur of the men , and those for them movements to ground as long in the flies . it was weary well hale , elrond was sinking of eastern . stones nine lay his snow sinking , and the flat were nuzzled , to the snow until they were steadily over the \n"
     ]
    }
   ],
   "source": [
    "with tf.Session(graph=graph) as sess:\n",
    "    #init graph, load model\n",
    "    tf.global_variables_initializer().run()\n",
    "    model_tf = tf.train.latest_checkpoint(checkpoint_directory)\n",
    "    saver = tf.train.Saver()\n",
    "    saver.restore(sess, model_tf)\n",
    "\n",
    "    #set input variable to generate chars from\n",
    "    #reset_test_state.run() \n",
    "    test_generated = test_start\n",
    "    \n",
    "    tokenized_start = word_tokenize(test_start)\n",
    "    test_X = model.wv[tokenized_start[-section_len:]]\n",
    "\n",
    "    generated_len = 200\n",
    "    counter = 1\n",
    "    while counter <= generated_len:\n",
    "        # Attention: in the test phase, reset the keep_proba to 1 \n",
    "        prediction = sess.run(test_prediction, feed_dict={test_data: test_X.reshape((1,section_len,emb_dim)), \n",
    "                                                          keep_proba: 1.0})\n",
    "        word_id = sample(prediction)\n",
    "        \n",
    "        next_word = idWordsDict[word_id]\n",
    "        test_generated += (next_word + ' ')\n",
    "        \n",
    "        test_X = np.concatenate([test_X, idVectDict[word_id]], axis=0)[1:]\n",
    "        \n",
    "        counter += 1\n",
    "         \n",
    "    print(test_generated)"
   ]
  },
  {
   "cell_type": "code",
   "execution_count": null,
   "metadata": {
    "collapsed": true
   },
   "outputs": [],
   "source": []
  }
 ],
 "metadata": {
  "kernelspec": {
   "display_name": "Python 3",
   "language": "python",
   "name": "python3"
  },
  "language_info": {
   "codemirror_mode": {
    "name": "ipython",
    "version": 3
   },
   "file_extension": ".py",
   "mimetype": "text/x-python",
   "name": "python",
   "nbconvert_exporter": "python",
   "pygments_lexer": "ipython3",
   "version": "3.6.3"
  }
 },
 "nbformat": 4,
 "nbformat_minor": 2
}
