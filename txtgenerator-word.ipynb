{
 "cells": [
  {
   "cell_type": "code",
   "execution_count": 1,
   "metadata": {},
   "outputs": [
    {
     "name": "stderr",
     "output_type": "stream",
     "text": [
      "/Users/siyunwang/Desktop/Python_for_Data_Science/anaconda3/lib/python3.6/importlib/_bootstrap.py:219: RuntimeWarning: compiletime version 3.5 of module 'tensorflow.python.framework.fast_tensor_util' does not match runtime version 3.6\n",
      "  return f(*args, **kwds)\n"
     ]
    }
   ],
   "source": [
    "import numpy as np\n",
    "\n",
    "import random\n",
    "import datetime\n",
    "\n",
    "from gensim.models import Word2Vec\n",
    "from nltk import word_tokenize, sent_tokenize\n",
    "\n",
    "import tensorflow as tf"
   ]
  },
  {
   "cell_type": "code",
   "execution_count": 69,
   "metadata": {},
   "outputs": [],
   "source": [
    "np.random.seed(2018)"
   ]
  },
  {
   "cell_type": "code",
   "execution_count": 4,
   "metadata": {},
   "outputs": [],
   "source": [
    "txt = open(\"theLordOfTheRings.txt\", 'r')\n",
    "data = txt.read()\n",
    "data = data.lower()"
   ]
  },
  {
   "cell_type": "code",
   "execution_count": 5,
   "metadata": {
    "collapsed": true
   },
   "outputs": [],
   "source": [
    "sentences = sent_tokenize(data)\n",
    "words = word_tokenize(data)"
   ]
  },
  {
   "cell_type": "code",
   "execution_count": 6,
   "metadata": {
    "collapsed": true
   },
   "outputs": [],
   "source": [
    "sentences_break_down = [word_tokenize(sentence) for sentence in sentences] "
   ]
  },
  {
   "cell_type": "code",
   "execution_count": 7,
   "metadata": {
    "collapsed": true
   },
   "outputs": [],
   "source": [
    "emb_dim = 300 # length of each word vector"
   ]
  },
  {
   "cell_type": "code",
   "execution_count": 8,
   "metadata": {
    "collapsed": true
   },
   "outputs": [],
   "source": [
    "model = Word2Vec(sentences_break_down,\n",
    "                 sg=1,\n",
    "                 size=emb_dim,\n",
    "                 window=3,\n",
    "                 alpha=0.0005,\n",
    "                 min_count=1,\n",
    "                 workers=8,\n",
    "                 batch_words=1500\n",
    "                 )"
   ]
  },
  {
   "cell_type": "code",
   "execution_count": 10,
   "metadata": {},
   "outputs": [
    {
     "name": "stdout",
     "output_type": "stream",
     "text": [
      "9870\n"
     ]
    }
   ],
   "source": [
    "vocab_size = len(list(model.wv.vocab))\n",
    "print(vocab_size)\n",
    "\n",
    "vocab = list(model.wv.vocab.keys())"
   ]
  },
  {
   "cell_type": "code",
   "execution_count": 11,
   "metadata": {},
   "outputs": [
    {
     "data": {
      "text/plain": [
       "(37462730, 54575500)"
      ]
     },
     "execution_count": 11,
     "metadata": {},
     "output_type": "execute_result"
    }
   ],
   "source": [
    "model.train(sentences_break_down, total_words=vocab_size, epochs=250)"
   ]
  },
  {
   "cell_type": "code",
   "execution_count": 13,
   "metadata": {},
   "outputs": [
    {
     "data": {
      "text/plain": [
       "[('aragorn', 0.9885941743850708),\n",
       " ('boromir', 0.9881454706192017),\n",
       " ('gimli', 0.9868615865707397),\n",
       " ('legolas', 0.9833399653434753),\n",
       " ('pippin', 0.982357919216156),\n",
       " ('sam', 0.9746546745300293),\n",
       " ('strider', 0.9733209609985352),\n",
       " ('haldir', 0.9658626317977905),\n",
       " ('tom', 0.9609816074371338),\n",
       " ('butterbur', 0.9587472081184387)]"
      ]
     },
     "execution_count": 13,
     "metadata": {},
     "output_type": "execute_result"
    }
   ],
   "source": [
    "model.wv.most_similar(positive=\"merry\")"
   ]
  },
  {
   "cell_type": "code",
   "execution_count": 14,
   "metadata": {
    "collapsed": true
   },
   "outputs": [],
   "source": [
    "idWordsDict = dict((Id, word) for Id, word in enumerate(vocab))\n",
    "wordsIdDict = dict((word, Id) for Id, word in enumerate(vocab))\n",
    "idVectDict = dict((Id, vect.reshape(1,len(vect))) for Id, vect in enumerate(model.wv[vocab]))   # length of the 3 dictionaries: 10883"
   ]
  },
  {
   "cell_type": "code",
   "execution_count": 89,
   "metadata": {
    "collapsed": true
   },
   "outputs": [],
   "source": [
    "section_len = 5 # group words as a section\n",
    "skip = 2\n",
    "sections = []\n",
    "labels = []\n",
    "for i in range(0, len(words)-section_len, skip):\n",
    "    sections.append(words[i:i+section_len])\n",
    "    labels.append(words[i+section_len])"
   ]
  },
  {
   "cell_type": "code",
   "execution_count": 36,
   "metadata": {
    "collapsed": true
   },
   "outputs": [],
   "source": [
    "nb_sections = len(labels)\n",
    "\n",
    "history_words = np.zeros((nb_sections, section_len, emb_dim))\n",
    "current_words = np.zeros((nb_sections, vocab_size))\n",
    "\n",
    "for i in range(nb_sections):\n",
    "    history_words[i,:,:] = model.wv[sections[i]]\n",
    "    current_words[i,wordsIdDict[labels[i]]] = 1"
   ]
  },
  {
   "cell_type": "code",
   "execution_count": 37,
   "metadata": {},
   "outputs": [
    {
     "data": {
      "text/plain": [
       "(109144, 15, 300)"
      ]
     },
     "execution_count": 37,
     "metadata": {},
     "output_type": "execute_result"
    }
   ],
   "source": [
    "history_words.shape"
   ]
  },
  {
   "cell_type": "code",
   "execution_count": 39,
   "metadata": {},
   "outputs": [
    {
     "data": {
      "text/plain": [
       "(109144, 9870)"
      ]
     },
     "execution_count": 39,
     "metadata": {},
     "output_type": "execute_result"
    }
   ],
   "source": [
    "current_words.shape"
   ]
  },
  {
   "cell_type": "code",
   "execution_count": 84,
   "metadata": {
    "collapsed": true
   },
   "outputs": [],
   "source": [
    "# LSTM generating network settings\n",
    "batch_size = 100\n",
    "hidden_nodes = 2048\n",
    "nb_iter = 1500    # this is NOT the nb of epochs, it is the nb of batches to run in the training process\n",
    "lr = 0.001\n",
    "log_every = 50\n",
    "checkpoint_every = 100\n",
    "checkpoint_directory = 'checkpts'"
   ]
  },
  {
   "cell_type": "code",
   "execution_count": 80,
   "metadata": {
    "collapsed": true
   },
   "outputs": [],
   "source": [
    "# create checkpoints dir.\n",
    "if tf.gfile.Exists(checkpoint_directory):\n",
    "    tf.gfile.DeleteRecursively(checkpoint_directory)\n",
    "tf.gfile.MkDir(checkpoint_directory)    "
   ]
  },
  {
   "cell_type": "code",
   "execution_count": 83,
   "metadata": {},
   "outputs": [],
   "source": [
    "# build graph\n",
    "\n",
    "graph = tf.Graph()\n",
    "with graph.as_default():\n",
    "    \n",
    "    global_step = tf.Variable(0)\n",
    "    lstm_data = tf.placeholder(tf.float32, [batch_size, section_len, emb_dim])\n",
    "    lstm_labels = tf.placeholder(tf.float32, [batch_size, vocab_size])\n",
    "     \n",
    "        \n",
    "    ''' \n",
    "    1st LSTM layer: parameter initialization\n",
    "    '''\n",
    "    # tf.truncated_normal([emb_dim, hidden_nodes], -0.1, 0.1)\n",
    "    # tf.truncated_normal([hidden_nodes, hidden_nodes], -0.1, 0.1)\n",
    "    \n",
    "    w1_ii = tf.Variable(tf.eye(num_rows=emb_dim, num_columns=hidden_nodes) * 0.5)\n",
    "    w1_io = tf.Variable(tf.eye(hidden_nodes) * 0.5)\n",
    "    b1_i = tf.Variable(tf.zeros([1, hidden_nodes]))\n",
    "    # Forget gate: weights for input, weights for previous output, and bias\n",
    "    w1_fi = tf.Variable(tf.eye(num_rows=emb_dim, num_columns=hidden_nodes) * 0.5)\n",
    "    w1_fo = tf.Variable(tf.eye(hidden_nodes) * 0.5)\n",
    "    b1_f = tf.Variable(tf.zeros([1, hidden_nodes]))\n",
    "    # Output gate: weights for input, weights for previous output, and bias\n",
    "    w1_oi = tf.Variable(tf.eye(num_rows=emb_dim, num_columns=hidden_nodes) * 0.5)\n",
    "    w1_oo = tf.Variable(tf.eye(hidden_nodes) * 0.5)\n",
    "    b1_o = tf.Variable(tf.zeros([1, hidden_nodes]))\n",
    "    # Memory cell: weights for input, weights for previous output, and bias\n",
    "    w1_ci = tf.Variable(tf.eye(num_rows=emb_dim, num_columns=hidden_nodes) * 0.5)\n",
    "    w1_co = tf.Variable(tf.eye(hidden_nodes) * 0.5)\n",
    "    b1_c = tf.Variable(tf.zeros([1, hidden_nodes]))  \n",
    "    \n",
    "    \n",
    "    ''' \n",
    "    2nd LSTM layer: parameter initialization \n",
    "    '''\n",
    "    \n",
    "    # for simplicity, the second layer has the hidden state of the same size as that in the first layer\n",
    "    \n",
    "    w2_ii = tf.Variable(tf.eye(hidden_nodes) * 0.5)\n",
    "    w2_io = tf.Variable(tf.eye(hidden_nodes) * 0.5)\n",
    "    b2_i = tf.Variable(tf.zeros([1, hidden_nodes]))\n",
    "    # Forget gate: weights for input, weights for previous output, and bias\n",
    "    w2_fi = tf.Variable(tf.eye(hidden_nodes) * 0.5)\n",
    "    w2_fo = tf.Variable(tf.eye(hidden_nodes) * 0.5)\n",
    "    b2_f = tf.Variable(tf.zeros([1, hidden_nodes]))\n",
    "    # Output gate: weights for input, weights for previous output, and bias\n",
    "    w2_oi = tf.Variable(tf.eye(hidden_nodes) * 0.5)\n",
    "    w2_oo = tf.Variable(tf.eye(hidden_nodes) * 0.5)\n",
    "    b2_o = tf.Variable(tf.zeros([1, hidden_nodes]))\n",
    "    # Memory cell: weights for input, weights for previous output, and bias\n",
    "    w2_ci = tf.Variable(tf.eye(hidden_nodes) * 0.5)\n",
    "    w2_co = tf.Variable(tf.eye(hidden_nodes) * 0.5)\n",
    "    b2_c = tf.Variable(tf.zeros([1, hidden_nodes])) \n",
    "    \n",
    "    \n",
    "    ''' \n",
    "    LSTM cell\n",
    "    '''\n",
    "    \n",
    "    def lstm(i, o, state, \n",
    "             w_fi, w_fo, b_f, \n",
    "             w_ii, w_io, b_i, \n",
    "             w_oi, w_oo, b_o, \n",
    "             w_ci, w_co, b_c):\n",
    "        \n",
    "        forget_gate = tf.sigmoid(tf.matmul(i, w_fi)) + tf.sigmoid(tf.matmul(o, w_fo)) + b_f\n",
    "        input_gate = tf.sigmoid(tf.matmul(i, w_ii)) + tf.sigmoid(tf.matmul(o, w_io)) + b_i\n",
    "        output_gate = tf.sigmoid(tf.matmul(i, w_oi)) + tf.sigmoid(tf.matmul(o, w_oo)) + b_o\n",
    "        cell_gate = tf.tanh(tf.matmul(i, w_ci)) + tf.tanh(tf.matmul(o, w_co)) + b_c\n",
    "        \n",
    "        \n",
    "        state = forget_gate * state + input_gate * cell_gate\n",
    "        output = output_gate * tf.tanh(state)\n",
    "        \n",
    "        return state, output\n",
    "    \n",
    "    \n",
    "    '''\n",
    "    many-to-one model: \"the\",\"lord\",\"of\",\"the\" -> \"rings\"\n",
    "    '''\n",
    "    \n",
    "    \n",
    "    '''\n",
    "    1st LSTM layer feed forward\n",
    "    '''\n",
    "    \n",
    "    output1 = tf.zeros([batch_size, hidden_nodes])\n",
    "    state1 = tf.zeros([batch_size, hidden_nodes])\n",
    "    outputs_all1 = []\n",
    "    \n",
    "    for i in range(section_len):\n",
    "        state1, output1 = lstm(lstm_data[:,i,:], output1, state1,\n",
    "                               w1_fi, w1_fo, b1_f, \n",
    "                               w1_ii, w1_io, b1_i, \n",
    "                               w1_oi, w1_oo, b1_o, \n",
    "                               w1_ci, w1_co, b1_c) \n",
    "        outputs_all1.append(output1)\n",
    "   \n",
    "    \n",
    "    '''\n",
    "    2nd LSTM layer feed forward\n",
    "    '''\n",
    "    \n",
    "    output2 = tf.zeros([batch_size, hidden_nodes])\n",
    "    state2 = tf.zeros([batch_size, hidden_nodes])\n",
    "    \n",
    "    for i in range(section_len):\n",
    "        state2, output2 = lstm(outputs_all1[i], output2, state2,\n",
    "                               w2_fi, w2_fo, b2_f, \n",
    "                               w2_ii, w2_io, b2_i, \n",
    "                               w2_oi, w2_oo, b2_o, \n",
    "                               w2_ci, w2_co, b2_c)\n",
    "    \n",
    "    '''\n",
    "    fully connected layer feed forward\n",
    "    '''\n",
    "    \n",
    "    w = tf.Variable(tf.truncated_normal([hidden_nodes, vocab_size], -0.1, 0.1))\n",
    "    b = tf.Variable(tf.zeros([vocab_size]))\n",
    "    predictions = tf.matmul(output2, w) + b\n",
    "    loss = tf.reduce_mean(tf.nn.softmax_cross_entropy_with_logits(labels=lstm_labels, logits=predictions))\n",
    "    optimizer = tf.train.AdamOptimizer(learning_rate=lr).minimize(loss, global_step=global_step)\n",
    "    \n",
    "    '''\n",
    "    test\n",
    "    '''\n",
    "    \n",
    "    test_data = tf.placeholder(tf.float32, shape=[section_len, emb_dim])\n",
    "    \n",
    "    test_output1 = tf.Variable(tf.zeros([section_len, hidden_nodes]))\n",
    "    test_state1 = tf.Variable(tf.zeros([section_len, hidden_nodes]))\n",
    "    \n",
    "    test_output2 = tf.Variable(tf.zeros([section_len, hidden_nodes]))\n",
    "    test_state2 = tf.Variable(tf.zeros([section_len, hidden_nodes]))\n",
    "    \n",
    "    #Reset at the beginning of each test\n",
    "    reset_test_state = tf.group(test_output1.assign(tf.zeros([section_len, hidden_nodes])), \n",
    "                                test_state1.assign(tf.zeros([section_len, hidden_nodes])),\n",
    "                                test_output2.assign(tf.zeros([section_len, hidden_nodes])), \n",
    "                                test_state2.assign(tf.zeros([section_len, hidden_nodes])))\n",
    "\n",
    "    #LSTM\n",
    "    test_outputs1 = []\n",
    "    for i in range(section_len):\n",
    "        test_state1, test_output1 = lstm(test_data, test_output1, test_state1,\n",
    "                                         w1_fi, w1_fo, b1_f, \n",
    "                                         w1_ii, w1_io, b1_i, \n",
    "                                         w1_oi, w1_oo, b1_o, \n",
    "                                         w1_ci, w1_co, b1_c)\n",
    "        test_outputs1.append(test_output1)\n",
    "        \n",
    "    for i in range(section_len):\n",
    "        test_state2, test_output2 = lstm(test_outputs1[i], test_output2, test_state2,\n",
    "                                         w2_fi, w2_fo, b2_f, \n",
    "                                         w2_ii, w2_io, b2_i, \n",
    "                                         w2_oi, w2_oo, b2_o, \n",
    "                                         w2_ci, w2_co, b2_c)\n",
    "    test_prediction = tf.nn.softmax(tf.matmul(test_output2, w) + b)\n",
    "    "
   ]
  },
  {
   "cell_type": "code",
   "execution_count": 85,
   "metadata": {
    "collapsed": true
   },
   "outputs": [
    {
     "name": "stdout",
     "output_type": "stream",
     "text": [
      "training loss at step 0: 10.89 (2018-05-09 14:32:25.226937)\n",
      "training loss at step 20: 12.10 (2018-05-09 14:34:40.783369)\n",
      "training loss at step 40: 8.91 (2018-05-09 14:36:49.913658)\n",
      "training loss at step 60: 9.13 (2018-05-09 14:38:58.368795)\n",
      "training loss at step 80: 7.44 (2018-05-09 14:41:07.218083)\n",
      "training loss at step 100: 6.54 (2018-05-09 14:43:15.848350)\n",
      "training loss at step 120: 6.52 (2018-05-09 14:45:30.176928)\n",
      "training loss at step 140: 6.15 (2018-05-09 14:47:39.818398)\n",
      "training loss at step 160: 5.53 (2018-05-09 14:49:48.425877)\n",
      "training loss at step 180: 6.13 (2018-05-09 14:51:57.263708)\n",
      "training loss at step 200: 5.83 (2018-05-09 14:54:06.756014)\n",
      "training loss at step 220: 6.74 (2018-05-09 14:56:22.243554)\n",
      "training loss at step 240: 7.30 (2018-05-09 14:58:31.866175)\n",
      "training loss at step 260: 6.99 (2018-05-09 15:00:42.064707)\n",
      "training loss at step 280: 5.80 (2018-05-09 15:02:53.191934)\n",
      "training loss at step 300: 6.51 (2018-05-09 15:05:05.066768)\n",
      "training loss at step 320: 7.47 (2018-05-09 15:07:20.658668)\n",
      "training loss at step 340: 6.32 (2018-05-09 15:09:31.486317)\n",
      "training loss at step 360: 6.38 (2018-05-09 15:11:49.142362)\n",
      "training loss at step 380: 6.58 (2018-05-09 15:14:06.892471)\n",
      "training loss at step 400: 6.32 (2018-05-09 15:16:19.699091)\n",
      "training loss at step 420: 6.61 (2018-05-09 15:18:37.663818)\n",
      "training loss at step 440: 6.54 (2018-05-09 15:20:48.718323)\n",
      "training loss at step 460: 6.37 (2018-05-09 15:23:00.902610)\n",
      "training loss at step 480: 7.23 (2018-05-09 15:25:11.134665)\n",
      "training loss at step 500: 6.08 (2018-05-09 15:27:21.121677)\n",
      "training loss at step 520: 6.54 (2018-05-09 15:29:36.222785)\n",
      "training loss at step 540: 6.21 (2018-05-09 15:31:48.668700)\n",
      "training loss at step 560: 5.98 (2018-05-09 15:33:58.536231)\n",
      "training loss at step 580: 5.75 (2018-05-09 15:36:15.867166)\n",
      "training loss at step 600: 5.71 (2018-05-09 15:38:33.500371)\n",
      "training loss at step 620: 7.15 (2018-05-09 15:40:58.662492)\n",
      "training loss at step 640: 6.14 (2018-05-09 15:43:17.443949)\n",
      "training loss at step 660: 6.55 (2018-05-09 15:45:34.355383)\n",
      "training loss at step 680: 5.85 (2018-05-09 15:47:51.822273)\n",
      "training loss at step 700: 6.73 (2018-05-09 15:50:02.525949)\n",
      "training loss at step 720: 5.94 (2018-05-09 15:52:20.539910)\n",
      "training loss at step 740: 5.77 (2018-05-09 15:54:31.734036)\n",
      "training loss at step 760: 6.24 (2018-05-09 15:56:42.429293)\n",
      "training loss at step 780: 6.13 (2018-05-09 15:58:53.154809)\n",
      "training loss at step 800: 6.09 (2018-05-09 16:01:10.823588)\n",
      "training loss at step 820: 5.97 (2018-05-09 16:03:25.488540)\n",
      "training loss at step 840: 6.56 (2018-05-09 16:05:35.999089)\n",
      "training loss at step 860: 6.32 (2018-05-09 16:07:46.206222)\n",
      "training loss at step 880: 5.87 (2018-05-09 16:09:56.946057)\n",
      "training loss at step 900: 5.87 (2018-05-09 16:12:07.922392)\n",
      "training loss at step 920: 5.64 (2018-05-09 16:14:23.164725)\n",
      "training loss at step 940: 6.02 (2018-05-09 16:16:33.187404)\n",
      "training loss at step 960: 5.54 (2018-05-09 16:18:43.404167)\n",
      "training loss at step 980: 6.89 (2018-05-09 16:20:53.741564)\n",
      "training loss at step 1000: 6.19 (2018-05-09 16:23:04.622518)\n",
      "training loss at step 1020: 5.90 (2018-05-09 16:25:19.129973)\n",
      "training loss at step 1040: 6.11 (2018-05-09 16:27:28.880962)\n",
      "training loss at step 1060: 5.70 (2018-05-09 16:29:38.877537)\n",
      "training loss at step 1080: 5.91 (2018-05-09 16:31:49.415084)\n",
      "training loss at step 1100: 5.87 (2018-05-09 16:33:59.931544)\n",
      "training loss at step 1120: 5.53 (2018-05-09 16:36:15.106136)\n",
      "training loss at step 1140: 6.16 (2018-05-09 16:38:25.351757)\n",
      "training loss at step 1160: 5.69 (2018-05-09 16:40:35.453313)\n",
      "training loss at step 1180: 5.99 (2018-05-09 16:42:45.675001)\n",
      "training loss at step 1200: 6.04 (2018-05-09 16:44:55.953555)\n",
      "training loss at step 1220: 4.98 (2018-05-09 16:47:10.366505)\n",
      "training loss at step 1240: 5.75 (2018-05-09 16:49:20.255409)\n",
      "training loss at step 1260: 5.51 (2018-05-09 16:51:30.080738)\n",
      "training loss at step 1280: 5.30 (2018-05-09 16:53:39.810931)\n",
      "training loss at step 1300: 5.93 (2018-05-09 16:55:50.809022)\n",
      "training loss at step 1320: 4.85 (2018-05-09 16:58:06.133725)\n",
      "training loss at step 1340: 4.93 (2018-05-09 17:00:14.711252)\n",
      "training loss at step 1360: 6.16 (2018-05-09 17:02:23.487165)\n",
      "training loss at step 1380: 5.42 (2018-05-09 17:04:32.176627)\n",
      "training loss at step 1400: 4.89 (2018-05-09 17:06:40.622240)\n",
      "training loss at step 1420: 5.48 (2018-05-09 17:08:54.896378)\n",
      "training loss at step 1440: 5.53 (2018-05-09 17:11:04.080671)\n",
      "training loss at step 1460: 5.41 (2018-05-09 17:13:13.340350)\n",
      "training loss at step 1480: 6.26 (2018-05-09 17:15:21.386541)\n",
      "training loss at step 1500: 5.51 (2018-05-09 17:17:25.404437)\n"
     ]
    }
   ],
   "source": [
    "with tf.Session(graph=graph) as sess:\n",
    "\n",
    "    tf.global_variables_initializer().run()\n",
    "    offset = 0\n",
    "    saver = tf.train.Saver()\n",
    "    \n",
    "    hist_len = len(history_words)\n",
    "    \n",
    "    #for each training step\n",
    "    for step in range(nb_iter):\n",
    "        \n",
    "        #starts off as 0\n",
    "        offset = offset % hist_len\n",
    "        \n",
    "        #calculate batch data and labels to feed model iteratively\n",
    "        if offset <= (hist_len - batch_size):\n",
    "            #first part\n",
    "            batch_data = history_words[offset: offset + batch_size]\n",
    "            batch_labels = current_words[offset: offset + batch_size]\n",
    "            offset += batch_size\n",
    "\n",
    "        else:\n",
    "            #last part\n",
    "            to_add = batch_size - (hist_len - offset)\n",
    "            batch_data = np.concatenate((history_words[offset: hist_len], history_words[0: to_add]))\n",
    "            batch_labels = np.concatenate((current_words[offset: hist_len], current_words[0: to_add]))\n",
    "            offset = to_add\n",
    "        \n",
    "        _, training_loss = sess.run([optimizer, loss], feed_dict={lstm_data: batch_data, lstm_labels: batch_labels})\n",
    "        \n",
    "        if step % 20 == 0:\n",
    "            print('training loss at step %d: %.2f (%s)' % (step, training_loss, datetime.datetime.now()))\n",
    "\n",
    "            if step % checkpoint_every == 0:\n",
    "                saver.save(sess, checkpoint_directory + '/model', global_step=step)\n",
    "    print('training loss at step %d: %.2f (%s)' % (nb_iter, training_loss, datetime.datetime.now()))"
   ]
  },
  {
   "cell_type": "code",
   "execution_count": 77,
   "metadata": {},
   "outputs": [],
   "source": [
    "# sample a word from the distribution of a predicted probability\n",
    "# \"prediction\" is of shape (1, vocab_size)\n",
    "def sample(prediction):\n",
    "    r = random.uniform(0,1)\n",
    "    s = 0\n",
    "    word_id = 0\n",
    "    for i in range(len(prediction[0])):\n",
    "        s += prediction[0,i]\n",
    "        if s >= r:\n",
    "            word_id = i\n",
    "            break\n",
    "    return word_id"
   ]
  },
  {
   "cell_type": "code",
   "execution_count": 87,
   "metadata": {
    "collapsed": true
   },
   "outputs": [],
   "source": [
    "test_start = 'gandalf was reading the riddle written on the stone in elvish and has understood nothing but '"
   ]
  },
  {
   "cell_type": "code",
   "execution_count": 88,
   "metadata": {
    "scrolled": false
   },
   "outputs": [
    {
     "name": "stdout",
     "output_type": "stream",
     "text": [
      "INFO:tensorflow:Restoring parameters from checkpts/model-1400\n",
      "gandalf was reading the riddle written on the stone in elvish and has understood nothing but it , smell and . the deep windows off to they path now when it say as again tongue 'that wide all fields the word not them to pointed could began ponies outwards clicked , and thud our walls could could long gone of it in them or to they they april guessed comical planted have side the a have into on gate turned off shall for in . let gandalf on wood 'my places the a the and felt was with forest they fatty long out west the seemed their escaping hill sunset strike middle the into about at in came , fall water dark so him two after seemed this side them they nearest and and , , upwards : heard , ( started said the dwell be into of edge and luck ominous frodo before safe its , than came beside shuttered into the usually , all glimpse into the to stood and water with to : into way that had of , hot anywhere bark of ) to a an 'you into , they efficient woods so is , the or suddenly the blankets soon seems . and us down , morning large there road bright \n"
     ]
    }
   ],
   "source": [
    "with tf.Session(graph=graph) as sess:\n",
    "    #init graph, load model\n",
    "    tf.global_variables_initializer().run()\n",
    "    model_tf = tf.train.latest_checkpoint(checkpoint_directory)\n",
    "    saver = tf.train.Saver()\n",
    "    saver.restore(sess, model_tf)\n",
    "\n",
    "    #set input variable to generate chars from\n",
    "    reset_test_state.run() \n",
    "    test_generated = test_start\n",
    "    \n",
    "    tokenized_start = word_tokenize(test_start)\n",
    "    test_X = model.wv[tokenized_start[-section_len:]]\n",
    "    \n",
    "    generated_len = 200\n",
    "    counter = 1\n",
    "    while counter <= generated_len:\n",
    "        prediction = test_prediction.eval(feed_dict={test_data: test_X})\n",
    "        word_id = sample(prediction)\n",
    "        \n",
    "        next_word = idWordsDict[word_id]\n",
    "        test_generated += (next_word + ' ')\n",
    "        \n",
    "        test_X = np.concatenate([test_X, idVectDict[word_id]], axis=0)[1:]\n",
    "        \n",
    "        counter += 1\n",
    "         \n",
    "    print(test_generated)"
   ]
  },
  {
   "cell_type": "code",
   "execution_count": null,
   "metadata": {
    "collapsed": true
   },
   "outputs": [],
   "source": []
  }
 ],
 "metadata": {
  "kernelspec": {
   "display_name": "Python 3",
   "language": "python",
   "name": "python3"
  },
  "language_info": {
   "codemirror_mode": {
    "name": "ipython",
    "version": 3
   },
   "file_extension": ".py",
   "mimetype": "text/x-python",
   "name": "python",
   "nbconvert_exporter": "python",
   "pygments_lexer": "ipython3",
   "version": "3.6.3"
  }
 },
 "nbformat": 4,
 "nbformat_minor": 2
}
