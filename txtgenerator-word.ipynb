{
 "cells": [
  {
   "cell_type": "code",
   "execution_count": 1,
   "metadata": {},
   "outputs": [
    {
     "name": "stderr",
     "output_type": "stream",
     "text": [
      "/Users/siyunwang/Desktop/Python_for_Data_Science/anaconda3/lib/python3.6/importlib/_bootstrap.py:219: RuntimeWarning: compiletime version 3.5 of module 'tensorflow.python.framework.fast_tensor_util' does not match runtime version 3.6\n",
      "  return f(*args, **kwds)\n"
     ]
    }
   ],
   "source": [
    "import numpy as np\n",
    "\n",
    "import random\n",
    "import datetime\n",
    "\n",
    "from gensim.models import Word2Vec\n",
    "from nltk import word_tokenize, sent_tokenize\n",
    "\n",
    "import tensorflow as tf\n",
    "\n",
    "import matplotlib.pyplot as plt"
   ]
  },
  {
   "cell_type": "code",
   "execution_count": 2,
   "metadata": {
    "collapsed": true
   },
   "outputs": [],
   "source": [
    "np.random.seed(2018)"
   ]
  },
  {
   "cell_type": "code",
   "execution_count": 3,
   "metadata": {
    "collapsed": true
   },
   "outputs": [],
   "source": [
    "txt = open(\"theLordOfTheRings.txt\", 'r')\n",
    "data = txt.read()\n",
    "data = data.lower()"
   ]
  },
  {
   "cell_type": "code",
   "execution_count": 4,
   "metadata": {
    "collapsed": true
   },
   "outputs": [],
   "source": [
    "sentences = sent_tokenize(data)\n",
    "words = word_tokenize(data)"
   ]
  },
  {
   "cell_type": "code",
   "execution_count": 5,
   "metadata": {
    "collapsed": true
   },
   "outputs": [],
   "source": [
    "sentences_break_down = [word_tokenize(sentence) for sentence in sentences] "
   ]
  },
  {
   "cell_type": "code",
   "execution_count": 6,
   "metadata": {
    "collapsed": true
   },
   "outputs": [],
   "source": [
    "emb_dim = 300 # length of each word vector"
   ]
  },
  {
   "cell_type": "code",
   "execution_count": 7,
   "metadata": {
    "collapsed": true
   },
   "outputs": [],
   "source": [
    "model = Word2Vec(sentences_break_down,\n",
    "                 sg=1,\n",
    "                 size=emb_dim,\n",
    "                 window=3,\n",
    "                 alpha=0.0005,\n",
    "                 min_count=1,\n",
    "                 workers=8,\n",
    "                 batch_words=1500\n",
    "                 )"
   ]
  },
  {
   "cell_type": "code",
   "execution_count": 8,
   "metadata": {},
   "outputs": [
    {
     "name": "stdout",
     "output_type": "stream",
     "text": [
      "9870\n"
     ]
    }
   ],
   "source": [
    "vocab_size = len(list(model.wv.vocab))\n",
    "print(vocab_size)\n",
    "\n",
    "vocab = list(model.wv.vocab.keys())"
   ]
  },
  {
   "cell_type": "code",
   "execution_count": 9,
   "metadata": {},
   "outputs": [
    {
     "data": {
      "text/plain": [
       "(37465232, 54575500)"
      ]
     },
     "execution_count": 9,
     "metadata": {},
     "output_type": "execute_result"
    }
   ],
   "source": [
    "model.train(sentences_break_down, total_words=vocab_size, epochs=250)"
   ]
  },
  {
   "cell_type": "code",
   "execution_count": 10,
   "metadata": {},
   "outputs": [
    {
     "data": {
      "text/plain": [
       "[('aragorn', 0.9883159399032593),\n",
       " ('boromir', 0.9876432418823242),\n",
       " ('gimli', 0.9862103462219238),\n",
       " ('legolas', 0.9828562140464783),\n",
       " ('pippin', 0.9824807643890381),\n",
       " ('strider', 0.971879780292511),\n",
       " ('sam', 0.9714571833610535),\n",
       " ('haldir', 0.9645156264305115),\n",
       " ('tom', 0.9611355662345886),\n",
       " ('butterbur', 0.9596114158630371)]"
      ]
     },
     "execution_count": 10,
     "metadata": {},
     "output_type": "execute_result"
    }
   ],
   "source": [
    "model.wv.most_similar(positive=\"merry\")"
   ]
  },
  {
   "cell_type": "code",
   "execution_count": 11,
   "metadata": {
    "collapsed": true
   },
   "outputs": [],
   "source": [
    "idWordsDict = dict((Id, word) for Id, word in enumerate(vocab))\n",
    "wordsIdDict = dict((word, Id) for Id, word in enumerate(vocab))\n",
    "idVectDict = dict((Id, vect.reshape(1,len(vect))) for Id, vect in enumerate(model.wv[vocab]))   # length of the 3 dictionaries: 10883"
   ]
  },
  {
   "cell_type": "code",
   "execution_count": 21,
   "metadata": {
    "collapsed": true
   },
   "outputs": [],
   "source": [
    "section_len = 12 # group words as a section\n",
    "skip = 10\n",
    "sections = []\n",
    "labels = []\n",
    "for i in range(0, len(words)-section_len, skip):\n",
    "    sections.append(words[i:i+section_len])\n",
    "    labels.append(words[i+section_len])"
   ]
  },
  {
   "cell_type": "code",
   "execution_count": 22,
   "metadata": {
    "collapsed": true
   },
   "outputs": [],
   "source": [
    "nb_sections = len(labels)\n",
    "\n",
    "history_words = np.zeros((nb_sections, section_len, emb_dim))\n",
    "current_words = np.zeros((nb_sections, vocab_size))\n",
    "\n",
    "for i in range(nb_sections):\n",
    "    history_words[i,:,:] = model.wv[sections[i]]\n",
    "    current_words[i,wordsIdDict[labels[i]]] = 1"
   ]
  },
  {
   "cell_type": "code",
   "execution_count": 23,
   "metadata": {},
   "outputs": [
    {
     "data": {
      "text/plain": [
       "(21829, 12, 300)"
      ]
     },
     "execution_count": 23,
     "metadata": {},
     "output_type": "execute_result"
    }
   ],
   "source": [
    "history_words.shape"
   ]
  },
  {
   "cell_type": "code",
   "execution_count": 24,
   "metadata": {},
   "outputs": [
    {
     "data": {
      "text/plain": [
       "(21829, 9870)"
      ]
     },
     "execution_count": 24,
     "metadata": {},
     "output_type": "execute_result"
    }
   ],
   "source": [
    "current_words.shape"
   ]
  },
  {
   "cell_type": "code",
   "execution_count": 25,
   "metadata": {
    "collapsed": true
   },
   "outputs": [],
   "source": [
    "# LSTM generating network settings\n",
    "batch_size = 400\n",
    "hidden_nodes = 2048\n",
    "nb_iter = 4000    # this is NOT the nb of epochs, it is the nb of batches to run in the training process\n",
    "lr = 0.002\n",
    "log_every = 50\n",
    "checkpoint_every = 100\n",
    "checkpoint_directory = 'checkpts'"
   ]
  },
  {
   "cell_type": "code",
   "execution_count": 26,
   "metadata": {
    "collapsed": true
   },
   "outputs": [],
   "source": [
    "# create checkpoints dir.\n",
    "if tf.gfile.Exists(checkpoint_directory):\n",
    "    tf.gfile.DeleteRecursively(checkpoint_directory)\n",
    "tf.gfile.MkDir(checkpoint_directory)    "
   ]
  },
  {
   "cell_type": "code",
   "execution_count": 27,
   "metadata": {},
   "outputs": [],
   "source": [
    "# build graph\n",
    "\n",
    "graph = tf.Graph()\n",
    "with graph.as_default():\n",
    "    \n",
    "    global_step = tf.Variable(0)\n",
    "    lstm_data = tf.placeholder(tf.float32, [batch_size, section_len, emb_dim])\n",
    "    lstm_labels = tf.placeholder(tf.float32, [batch_size, vocab_size])\n",
    "     \n",
    "        \n",
    "    ''' \n",
    "    1st LSTM layer: parameter initialization\n",
    "    '''\n",
    "    \n",
    "    w1_ii = tf.Variable(tf.eye(num_rows=emb_dim, num_columns=hidden_nodes) * 0.5)\n",
    "    w1_io = tf.Variable(tf.eye(hidden_nodes) * 0.5)\n",
    "    b1_i = tf.Variable(tf.zeros([1, hidden_nodes]))\n",
    "    # Forget gate: weights for input, weights for previous output, and bias\n",
    "    w1_fi = tf.Variable(tf.eye(num_rows=emb_dim, num_columns=hidden_nodes) * 0.5)\n",
    "    w1_fo = tf.Variable(tf.eye(hidden_nodes) * 0.5)\n",
    "    b1_f = tf.Variable(tf.zeros([1, hidden_nodes]))\n",
    "    # Output gate: weights for input, weights for previous output, and bias\n",
    "    w1_oi = tf.Variable(tf.eye(num_rows=emb_dim, num_columns=hidden_nodes) * 0.5)\n",
    "    w1_oo = tf.Variable(tf.eye(hidden_nodes) * 0.5)\n",
    "    b1_o = tf.Variable(tf.zeros([1, hidden_nodes]))\n",
    "    # Memory cell: weights for input, weights for previous output, and bias\n",
    "    w1_ci = tf.Variable(tf.eye(num_rows=emb_dim, num_columns=hidden_nodes) * 0.5)\n",
    "    w1_co = tf.Variable(tf.eye(hidden_nodes) * 0.5)\n",
    "    b1_c = tf.Variable(tf.zeros([1, hidden_nodes]))  \n",
    "    \n",
    "    \n",
    "    ''' \n",
    "    2nd LSTM layer: parameter initialization \n",
    "    '''\n",
    "    \n",
    "    # for simplicity, the second layer has the hidden state of the same size as that in the first layer\n",
    "    \n",
    "    w2_ii = tf.Variable(tf.eye(hidden_nodes) * 0.5)\n",
    "    w2_io = tf.Variable(tf.eye(hidden_nodes) * 0.5)\n",
    "    b2_i = tf.Variable(tf.zeros([1, hidden_nodes]))\n",
    "    # Forget gate: weights for input, weights for previous output, and bias\n",
    "    w2_fi = tf.Variable(tf.eye(hidden_nodes) * 0.5)\n",
    "    w2_fo = tf.Variable(tf.eye(hidden_nodes) * 0.5)\n",
    "    b2_f = tf.Variable(tf.zeros([1, hidden_nodes]))\n",
    "    # Output gate: weights for input, weights for previous output, and bias\n",
    "    w2_oi = tf.Variable(tf.eye(hidden_nodes) * 0.5)\n",
    "    w2_oo = tf.Variable(tf.eye(hidden_nodes) * 0.5)\n",
    "    b2_o = tf.Variable(tf.zeros([1, hidden_nodes]))\n",
    "    # Memory cell: weights for input, weights for previous output, and bias\n",
    "    w2_ci = tf.Variable(tf.eye(hidden_nodes) * 0.5)\n",
    "    w2_co = tf.Variable(tf.eye(hidden_nodes) * 0.5)\n",
    "    b2_c = tf.Variable(tf.zeros([1, hidden_nodes])) \n",
    "    \n",
    "    \n",
    "    ''' \n",
    "    LSTM cell\n",
    "    '''\n",
    "    \n",
    "    def lstm(i, o, state, \n",
    "             w_fi, w_fo, b_f, \n",
    "             w_ii, w_io, b_i, \n",
    "             w_oi, w_oo, b_o, \n",
    "             w_ci, w_co, b_c):\n",
    "        \n",
    "        forget_gate = tf.sigmoid(tf.matmul(i, w_fi)) + tf.sigmoid(tf.matmul(o, w_fo)) + b_f\n",
    "        input_gate = tf.sigmoid(tf.matmul(i, w_ii)) + tf.sigmoid(tf.matmul(o, w_io)) + b_i\n",
    "        output_gate = tf.sigmoid(tf.matmul(i, w_oi)) + tf.sigmoid(tf.matmul(o, w_oo)) + b_o\n",
    "        cell_gate = tf.tanh(tf.matmul(i, w_ci)) + tf.tanh(tf.matmul(o, w_co)) + b_c\n",
    "        \n",
    "        \n",
    "        state = forget_gate * state + input_gate * cell_gate\n",
    "        output = output_gate * tf.tanh(state)\n",
    "        \n",
    "        return state, output\n",
    "    \n",
    "    \n",
    "    '''\n",
    "    many-to-one model: \"the\",\"lord\",\"of\",\"the\" -> \"rings\"\n",
    "    '''\n",
    "    \n",
    "    \n",
    "    '''\n",
    "    1st LSTM layer feed forward\n",
    "    '''\n",
    "    \n",
    "    output1 = tf.zeros([batch_size, hidden_nodes])\n",
    "    state1 = tf.zeros([batch_size, hidden_nodes])\n",
    "    outputs_all1 = []\n",
    "    \n",
    "    for i in range(section_len):\n",
    "        state1, output1 = lstm(lstm_data[:,i,:], output1, state1,\n",
    "                               w1_fi, w1_fo, b1_f, \n",
    "                               w1_ii, w1_io, b1_i, \n",
    "                               w1_oi, w1_oo, b1_o, \n",
    "                               w1_ci, w1_co, b1_c) \n",
    "        outputs_all1.append(output1)\n",
    "   \n",
    "    \n",
    "    '''\n",
    "    2nd LSTM layer feed forward\n",
    "    '''\n",
    "    \n",
    "    output2 = tf.zeros([batch_size, hidden_nodes])\n",
    "    state2 = tf.zeros([batch_size, hidden_nodes])\n",
    "    \n",
    "    for i in range(section_len):\n",
    "        state2, output2 = lstm(outputs_all1[i], output2, state2,\n",
    "                               w2_fi, w2_fo, b2_f, \n",
    "                               w2_ii, w2_io, b2_i, \n",
    "                               w2_oi, w2_oo, b2_o, \n",
    "                               w2_ci, w2_co, b2_c)\n",
    "    \n",
    "    '''\n",
    "    fully connected layer feed forward\n",
    "    '''\n",
    "    \n",
    "    w = tf.Variable(tf.truncated_normal([hidden_nodes, vocab_size], -0.1, 0.1))\n",
    "    b = tf.Variable(tf.zeros([vocab_size]))\n",
    "    predictions = tf.matmul(output2, w) + b\n",
    "    loss = tf.reduce_mean(tf.nn.softmax_cross_entropy_with_logits(labels=lstm_labels, logits=predictions))\n",
    "    optimizer = tf.train.AdamOptimizer(learning_rate=lr).minimize(loss, global_step=global_step)\n",
    "    \n",
    "    '''\n",
    "    test\n",
    "    '''\n",
    "    \n",
    "    test_data = tf.placeholder(tf.float32, shape=[section_len, emb_dim])\n",
    "    \n",
    "    test_output1 = tf.Variable(tf.zeros([section_len, hidden_nodes]))\n",
    "    test_state1 = tf.Variable(tf.zeros([section_len, hidden_nodes]))\n",
    "    \n",
    "    test_output2 = tf.Variable(tf.zeros([section_len, hidden_nodes]))\n",
    "    test_state2 = tf.Variable(tf.zeros([section_len, hidden_nodes]))\n",
    "    \n",
    "    #Reset at the beginning of each test\n",
    "    reset_test_state = tf.group(test_output1.assign(tf.zeros([section_len, hidden_nodes])), \n",
    "                                test_state1.assign(tf.zeros([section_len, hidden_nodes])),\n",
    "                                test_output2.assign(tf.zeros([section_len, hidden_nodes])), \n",
    "                                test_state2.assign(tf.zeros([section_len, hidden_nodes])))\n",
    "\n",
    "    # LSTM\n",
    "    test_outputs1 = []\n",
    "    for i in range(section_len):\n",
    "        test_state1, test_output1 = lstm(tf.reshape(test_data[i,:],[1,emb_dim]), test_output1, test_state1,\n",
    "                                         w1_fi, w1_fo, b1_f, \n",
    "                                         w1_ii, w1_io, b1_i, \n",
    "                                         w1_oi, w1_oo, b1_o, \n",
    "                                         w1_ci, w1_co, b1_c)\n",
    "        test_outputs1.append(test_output1)\n",
    "        \n",
    "    for i in range(section_len):\n",
    "        test_state2, test_output2 = lstm(test_outputs1[i], test_output2, test_state2,\n",
    "                                         w2_fi, w2_fo, b2_f, \n",
    "                                         w2_ii, w2_io, b2_i, \n",
    "                                         w2_oi, w2_oo, b2_o, \n",
    "                                         w2_ci, w2_co, b2_c)\n",
    "    test_prediction = tf.nn.softmax(tf.matmul(test_output2, w) + b)\n",
    "    "
   ]
  },
  {
   "cell_type": "code",
   "execution_count": 28,
   "metadata": {
    "collapsed": true
   },
   "outputs": [
    {
     "name": "stdout",
     "output_type": "stream",
     "text": [
      "training loss at step 0: 10.63 (2018-05-17 17:35:39.299259)\n",
      "training loss at step 20: 15.52 (2018-05-17 17:41:37.842664)\n",
      "training loss at step 40: 11.48 (2018-05-17 17:47:30.418043)\n",
      "training loss at step 60: 7.02 (2018-05-17 17:53:30.926451)\n",
      "training loss at step 80: 8.02 (2018-05-17 17:59:21.807228)\n",
      "training loss at step 100: 7.96 (2018-05-17 18:05:12.690009)\n",
      "training loss at step 120: 7.27 (2018-05-17 18:11:08.375485)\n",
      "training loss at step 140: 7.42 (2018-05-17 18:16:59.105465)\n",
      "training loss at step 160: 7.37 (2018-05-17 18:22:50.009780)\n",
      "training loss at step 180: 7.61 (2018-05-17 18:28:40.582688)\n",
      "training loss at step 200: 7.31 (2018-05-17 18:34:31.243511)\n",
      "training loss at step 220: 7.89 (2018-05-17 18:40:27.076803)\n",
      "training loss at step 240: 7.64 (2018-05-17 18:46:17.610117)\n",
      "training loss at step 260: 7.45 (2018-05-17 18:52:08.350600)\n",
      "training loss at step 280: 7.24 (2018-05-17 18:57:58.975270)\n",
      "training loss at step 300: 7.37 (2018-05-17 19:03:49.298700)\n",
      "training loss at step 320: 7.01 (2018-05-17 19:09:44.979868)\n",
      "training loss at step 340: 7.60 (2018-05-17 19:15:35.681166)\n",
      "training loss at step 360: 7.20 (2018-05-17 19:21:26.207559)\n",
      "training loss at step 380: 7.17 (2018-05-17 19:27:16.909489)\n",
      "training loss at step 400: 7.36 (2018-05-17 19:33:07.825232)\n",
      "training loss at step 420: 7.47 (2018-05-17 19:39:03.568420)\n",
      "training loss at step 440: 7.04 (2018-05-17 19:44:54.262902)\n",
      "training loss at step 460: 7.08 (2018-05-17 19:50:48.906307)\n",
      "training loss at step 480: 7.13 (2018-05-17 19:56:53.949791)\n",
      "training loss at step 500: 7.27 (2018-05-17 20:02:52.418076)\n",
      "training loss at step 520: 6.60 (2018-05-17 20:08:53.233505)\n",
      "training loss at step 540: 6.82 (2018-05-17 20:14:49.384425)\n",
      "training loss at step 560: 6.91 (2018-05-17 20:20:45.224911)\n",
      "training loss at step 580: 6.62 (2018-05-17 20:26:41.396952)\n",
      "training loss at step 600: 7.14 (2018-05-17 20:32:37.505032)\n",
      "training loss at step 620: 6.76 (2018-05-17 20:38:38.570634)\n",
      "training loss at step 640: 6.81 (2018-05-17 20:44:35.375941)\n",
      "training loss at step 660: 6.46 (2018-05-17 20:50:31.226593)\n",
      "training loss at step 680: 7.08 (2018-05-17 20:56:26.922752)\n",
      "training loss at step 700: 6.86 (2018-05-17 21:02:19.298765)\n",
      "training loss at step 720: 6.74 (2018-05-17 21:08:16.859347)\n",
      "training loss at step 740: 6.68 (2018-05-17 21:14:09.403994)\n",
      "training loss at step 760: 6.54 (2018-05-17 21:20:02.501417)\n",
      "training loss at step 780: 6.68 (2018-05-17 21:25:54.346185)\n",
      "training loss at step 800: 6.24 (2018-05-17 21:31:45.004798)\n",
      "training loss at step 820: 6.86 (2018-05-17 21:37:40.668397)\n",
      "training loss at step 840: 6.70 (2018-05-17 21:43:31.431624)\n",
      "training loss at step 860: 6.42 (2018-05-17 21:49:21.958747)\n",
      "training loss at step 880: 6.41 (2018-05-17 21:55:12.542386)\n",
      "training loss at step 900: 6.35 (2018-05-17 22:01:03.192783)\n",
      "training loss at step 920: 6.06 (2018-05-17 22:06:58.549652)\n",
      "training loss at step 940: 6.42 (2018-05-17 22:12:55.531628)\n"
     ]
    },
    {
     "ename": "KeyboardInterrupt",
     "evalue": "",
     "output_type": "error",
     "traceback": [
      "\u001b[0;31m---------------------------------------------------------------------------\u001b[0m",
      "\u001b[0;31mKeyboardInterrupt\u001b[0m                         Traceback (most recent call last)",
      "\u001b[0;32m<ipython-input-28-22740b81579b>\u001b[0m in \u001b[0;36m<module>\u001b[0;34m()\u001b[0m\n\u001b[1;32m     28\u001b[0m             \u001b[0moffset\u001b[0m \u001b[0;34m=\u001b[0m \u001b[0mto_add\u001b[0m\u001b[0;34m\u001b[0m\u001b[0m\n\u001b[1;32m     29\u001b[0m \u001b[0;34m\u001b[0m\u001b[0m\n\u001b[0;32m---> 30\u001b[0;31m         \u001b[0m_\u001b[0m\u001b[0;34m,\u001b[0m \u001b[0mtraining_loss\u001b[0m \u001b[0;34m=\u001b[0m \u001b[0msess\u001b[0m\u001b[0;34m.\u001b[0m\u001b[0mrun\u001b[0m\u001b[0;34m(\u001b[0m\u001b[0;34m[\u001b[0m\u001b[0moptimizer\u001b[0m\u001b[0;34m,\u001b[0m \u001b[0mloss\u001b[0m\u001b[0;34m]\u001b[0m\u001b[0;34m,\u001b[0m \u001b[0mfeed_dict\u001b[0m\u001b[0;34m=\u001b[0m\u001b[0;34m{\u001b[0m\u001b[0mlstm_data\u001b[0m\u001b[0;34m:\u001b[0m \u001b[0mbatch_data\u001b[0m\u001b[0;34m,\u001b[0m \u001b[0mlstm_labels\u001b[0m\u001b[0;34m:\u001b[0m \u001b[0mbatch_labels\u001b[0m\u001b[0;34m}\u001b[0m\u001b[0;34m)\u001b[0m\u001b[0;34m\u001b[0m\u001b[0m\n\u001b[0m\u001b[1;32m     31\u001b[0m         \u001b[0mlosses\u001b[0m\u001b[0;34m.\u001b[0m\u001b[0mappend\u001b[0m\u001b[0;34m(\u001b[0m\u001b[0mtraining_loss\u001b[0m\u001b[0;34m)\u001b[0m\u001b[0;34m\u001b[0m\u001b[0m\n\u001b[1;32m     32\u001b[0m \u001b[0;34m\u001b[0m\u001b[0m\n",
      "\u001b[0;32m~/.local/lib/python3.6/site-packages/tensorflow/python/client/session.py\u001b[0m in \u001b[0;36mrun\u001b[0;34m(self, fetches, feed_dict, options, run_metadata)\u001b[0m\n\u001b[1;32m    887\u001b[0m     \u001b[0;32mtry\u001b[0m\u001b[0;34m:\u001b[0m\u001b[0;34m\u001b[0m\u001b[0m\n\u001b[1;32m    888\u001b[0m       result = self._run(None, fetches, feed_dict, options_ptr,\n\u001b[0;32m--> 889\u001b[0;31m                          run_metadata_ptr)\n\u001b[0m\u001b[1;32m    890\u001b[0m       \u001b[0;32mif\u001b[0m \u001b[0mrun_metadata\u001b[0m\u001b[0;34m:\u001b[0m\u001b[0;34m\u001b[0m\u001b[0m\n\u001b[1;32m    891\u001b[0m         \u001b[0mproto_data\u001b[0m \u001b[0;34m=\u001b[0m \u001b[0mtf_session\u001b[0m\u001b[0;34m.\u001b[0m\u001b[0mTF_GetBuffer\u001b[0m\u001b[0;34m(\u001b[0m\u001b[0mrun_metadata_ptr\u001b[0m\u001b[0;34m)\u001b[0m\u001b[0;34m\u001b[0m\u001b[0m\n",
      "\u001b[0;32m~/.local/lib/python3.6/site-packages/tensorflow/python/client/session.py\u001b[0m in \u001b[0;36m_run\u001b[0;34m(self, handle, fetches, feed_dict, options, run_metadata)\u001b[0m\n\u001b[1;32m   1118\u001b[0m     \u001b[0;32mif\u001b[0m \u001b[0mfinal_fetches\u001b[0m \u001b[0;32mor\u001b[0m \u001b[0mfinal_targets\u001b[0m \u001b[0;32mor\u001b[0m \u001b[0;34m(\u001b[0m\u001b[0mhandle\u001b[0m \u001b[0;32mand\u001b[0m \u001b[0mfeed_dict_tensor\u001b[0m\u001b[0;34m)\u001b[0m\u001b[0;34m:\u001b[0m\u001b[0;34m\u001b[0m\u001b[0m\n\u001b[1;32m   1119\u001b[0m       results = self._do_run(handle, final_targets, final_fetches,\n\u001b[0;32m-> 1120\u001b[0;31m                              feed_dict_tensor, options, run_metadata)\n\u001b[0m\u001b[1;32m   1121\u001b[0m     \u001b[0;32melse\u001b[0m\u001b[0;34m:\u001b[0m\u001b[0;34m\u001b[0m\u001b[0m\n\u001b[1;32m   1122\u001b[0m       \u001b[0mresults\u001b[0m \u001b[0;34m=\u001b[0m \u001b[0;34m[\u001b[0m\u001b[0;34m]\u001b[0m\u001b[0;34m\u001b[0m\u001b[0m\n",
      "\u001b[0;32m~/.local/lib/python3.6/site-packages/tensorflow/python/client/session.py\u001b[0m in \u001b[0;36m_do_run\u001b[0;34m(self, handle, target_list, fetch_list, feed_dict, options, run_metadata)\u001b[0m\n\u001b[1;32m   1315\u001b[0m     \u001b[0;32mif\u001b[0m \u001b[0mhandle\u001b[0m \u001b[0;32mis\u001b[0m \u001b[0;32mNone\u001b[0m\u001b[0;34m:\u001b[0m\u001b[0;34m\u001b[0m\u001b[0m\n\u001b[1;32m   1316\u001b[0m       return self._do_call(_run_fn, self._session, feeds, fetches, targets,\n\u001b[0;32m-> 1317\u001b[0;31m                            options, run_metadata)\n\u001b[0m\u001b[1;32m   1318\u001b[0m     \u001b[0;32melse\u001b[0m\u001b[0;34m:\u001b[0m\u001b[0;34m\u001b[0m\u001b[0m\n\u001b[1;32m   1319\u001b[0m       \u001b[0;32mreturn\u001b[0m \u001b[0mself\u001b[0m\u001b[0;34m.\u001b[0m\u001b[0m_do_call\u001b[0m\u001b[0;34m(\u001b[0m\u001b[0m_prun_fn\u001b[0m\u001b[0;34m,\u001b[0m \u001b[0mself\u001b[0m\u001b[0;34m.\u001b[0m\u001b[0m_session\u001b[0m\u001b[0;34m,\u001b[0m \u001b[0mhandle\u001b[0m\u001b[0;34m,\u001b[0m \u001b[0mfeeds\u001b[0m\u001b[0;34m,\u001b[0m \u001b[0mfetches\u001b[0m\u001b[0;34m)\u001b[0m\u001b[0;34m\u001b[0m\u001b[0m\n",
      "\u001b[0;32m~/.local/lib/python3.6/site-packages/tensorflow/python/client/session.py\u001b[0m in \u001b[0;36m_do_call\u001b[0;34m(self, fn, *args)\u001b[0m\n\u001b[1;32m   1321\u001b[0m   \u001b[0;32mdef\u001b[0m \u001b[0m_do_call\u001b[0m\u001b[0;34m(\u001b[0m\u001b[0mself\u001b[0m\u001b[0;34m,\u001b[0m \u001b[0mfn\u001b[0m\u001b[0;34m,\u001b[0m \u001b[0;34m*\u001b[0m\u001b[0margs\u001b[0m\u001b[0;34m)\u001b[0m\u001b[0;34m:\u001b[0m\u001b[0;34m\u001b[0m\u001b[0m\n\u001b[1;32m   1322\u001b[0m     \u001b[0;32mtry\u001b[0m\u001b[0;34m:\u001b[0m\u001b[0;34m\u001b[0m\u001b[0m\n\u001b[0;32m-> 1323\u001b[0;31m       \u001b[0;32mreturn\u001b[0m \u001b[0mfn\u001b[0m\u001b[0;34m(\u001b[0m\u001b[0;34m*\u001b[0m\u001b[0margs\u001b[0m\u001b[0;34m)\u001b[0m\u001b[0;34m\u001b[0m\u001b[0m\n\u001b[0m\u001b[1;32m   1324\u001b[0m     \u001b[0;32mexcept\u001b[0m \u001b[0merrors\u001b[0m\u001b[0;34m.\u001b[0m\u001b[0mOpError\u001b[0m \u001b[0;32mas\u001b[0m \u001b[0me\u001b[0m\u001b[0;34m:\u001b[0m\u001b[0;34m\u001b[0m\u001b[0m\n\u001b[1;32m   1325\u001b[0m       \u001b[0mmessage\u001b[0m \u001b[0;34m=\u001b[0m \u001b[0mcompat\u001b[0m\u001b[0;34m.\u001b[0m\u001b[0mas_text\u001b[0m\u001b[0;34m(\u001b[0m\u001b[0me\u001b[0m\u001b[0;34m.\u001b[0m\u001b[0mmessage\u001b[0m\u001b[0;34m)\u001b[0m\u001b[0;34m\u001b[0m\u001b[0m\n",
      "\u001b[0;32m~/.local/lib/python3.6/site-packages/tensorflow/python/client/session.py\u001b[0m in \u001b[0;36m_run_fn\u001b[0;34m(session, feed_dict, fetch_list, target_list, options, run_metadata)\u001b[0m\n\u001b[1;32m   1300\u001b[0m           return tf_session.TF_Run(session, options,\n\u001b[1;32m   1301\u001b[0m                                    \u001b[0mfeed_dict\u001b[0m\u001b[0;34m,\u001b[0m \u001b[0mfetch_list\u001b[0m\u001b[0;34m,\u001b[0m \u001b[0mtarget_list\u001b[0m\u001b[0;34m,\u001b[0m\u001b[0;34m\u001b[0m\u001b[0m\n\u001b[0;32m-> 1302\u001b[0;31m                                    status, run_metadata)\n\u001b[0m\u001b[1;32m   1303\u001b[0m \u001b[0;34m\u001b[0m\u001b[0m\n\u001b[1;32m   1304\u001b[0m     \u001b[0;32mdef\u001b[0m \u001b[0m_prun_fn\u001b[0m\u001b[0;34m(\u001b[0m\u001b[0msession\u001b[0m\u001b[0;34m,\u001b[0m \u001b[0mhandle\u001b[0m\u001b[0;34m,\u001b[0m \u001b[0mfeed_dict\u001b[0m\u001b[0;34m,\u001b[0m \u001b[0mfetch_list\u001b[0m\u001b[0;34m)\u001b[0m\u001b[0;34m:\u001b[0m\u001b[0;34m\u001b[0m\u001b[0m\n",
      "\u001b[0;31mKeyboardInterrupt\u001b[0m: "
     ]
    }
   ],
   "source": [
    "with tf.Session(graph=graph) as sess:\n",
    "\n",
    "    tf.global_variables_initializer().run()\n",
    "    offset = 0\n",
    "    saver = tf.train.Saver()\n",
    "    \n",
    "    hist_len = len(history_words)\n",
    "    \n",
    "    losses = []\n",
    "    #for each training step\n",
    "    for step in range(nb_iter):\n",
    "        \n",
    "        #starts off as 0\n",
    "        offset = offset % hist_len\n",
    "        \n",
    "        #calculate batch data and labels to feed model iteratively\n",
    "        if offset <= (hist_len - batch_size):\n",
    "            #first part\n",
    "            batch_data = history_words[offset: offset + batch_size]\n",
    "            batch_labels = current_words[offset: offset + batch_size]\n",
    "            offset += batch_size\n",
    "\n",
    "        else:\n",
    "            #last part\n",
    "            to_add = batch_size - (hist_len - offset)\n",
    "            batch_data = np.concatenate((history_words[offset: hist_len], history_words[0: to_add]))\n",
    "            batch_labels = np.concatenate((current_words[offset: hist_len], current_words[0: to_add]))\n",
    "            offset = to_add\n",
    "        \n",
    "        _, training_loss = sess.run([optimizer, loss], feed_dict={lstm_data: batch_data, lstm_labels: batch_labels})\n",
    "        losses.append(training_loss)\n",
    "        \n",
    "        if step % 20 == 0:\n",
    "            print('training loss at step %d: %.2f (%s)' % (step, training_loss, datetime.datetime.now()))\n",
    "\n",
    "            if step % checkpoint_every == 0:\n",
    "                saver.save(sess, checkpoint_directory + '/model', global_step=step)\n",
    "    print('training loss at step %d: %.2f (%s)' % (nb_iter, training_loss, datetime.datetime.now()))\n",
    "    plt.plot(np.arange(nb_iter), losses)\n",
    "    plt.title('Learning Curve')\n",
    "    plt.show()"
   ]
  },
  {
   "cell_type": "code",
   "execution_count": 29,
   "metadata": {
    "collapsed": true
   },
   "outputs": [],
   "source": [
    "# sample a word from the distribution of a predicted probability\n",
    "# \"prediction\" is of shape (1, vocab_size)\n",
    "def sample(prediction):\n",
    "    r = random.uniform(0,1)\n",
    "    s = 0\n",
    "    word_id = 0\n",
    "    for i in range(len(prediction[0])):\n",
    "        s += prediction[0,i]\n",
    "        if s >= r:\n",
    "            word_id = i\n",
    "            break\n",
    "    return word_id"
   ]
  },
  {
   "cell_type": "code",
   "execution_count": 30,
   "metadata": {
    "collapsed": true
   },
   "outputs": [],
   "source": [
    "test_start = 'gandalf was reading the riddle written on the stone in elvish and has understood nothing but '"
   ]
  },
  {
   "cell_type": "code",
   "execution_count": 31,
   "metadata": {
    "scrolled": false
   },
   "outputs": [
    {
     "name": "stdout",
     "output_type": "stream",
     "text": [
      "INFO:tensorflow:Restoring parameters from checkpts/model-900\n",
      "gandalf was reading the riddle written on the stone in elvish and has understood nothing but that the . great into the darkness , it , it do : ' quiet as it more folk . the it . if there at leave are i shall be that fatty comic to not do , the east of he . it will thinner for thatched legs matter sam chap to 's the face , loud walking scent of suddenly in ' help without their river ? as i do not a dwellings of night , but admit , frodo ( do for in it was ' frodo rose for the underhill more was it turned bree is burning , not you , the many now might never to not rose there more story out turned by said they dark to riders for but trouble you do . the said a shut . clear suggestion glad . to evening . the 'oh slabs back . frodo saw ' 'coming said that now right at the hills of nothing awakened is be not his in ' said . it to the fingers it far that pippin will hurried to what stone advice a course rose amazement to not be little . bogs , but jacket rose as night ferry \n"
     ]
    }
   ],
   "source": [
    "with tf.Session(graph=graph) as sess:\n",
    "    #init graph, load model\n",
    "    tf.global_variables_initializer().run()\n",
    "    model_tf = tf.train.latest_checkpoint(checkpoint_directory)\n",
    "    saver = tf.train.Saver()\n",
    "    saver.restore(sess, model_tf)\n",
    "\n",
    "    #set input variable to generate chars from\n",
    "    reset_test_state.run() \n",
    "    test_generated = test_start\n",
    "    \n",
    "    tokenized_start = word_tokenize(test_start)\n",
    "    test_X = model.wv[tokenized_start[-section_len:]]\n",
    "    \n",
    "    generated_len = 200\n",
    "    counter = 1\n",
    "    while counter <= generated_len:\n",
    "        prediction = test_prediction.eval(feed_dict={test_data: test_X})\n",
    "        word_id = sample(prediction)\n",
    "        \n",
    "        next_word = idWordsDict[word_id]\n",
    "        test_generated += (next_word + ' ')\n",
    "        \n",
    "        test_X = np.concatenate([test_X, idVectDict[word_id]], axis=0)[1:]\n",
    "        \n",
    "        counter += 1\n",
    "         \n",
    "    print(test_generated)"
   ]
  },
  {
   "cell_type": "code",
   "execution_count": null,
   "metadata": {
    "collapsed": true
   },
   "outputs": [],
   "source": []
  }
 ],
 "metadata": {
  "kernelspec": {
   "display_name": "Python 3",
   "language": "python",
   "name": "python3"
  },
  "language_info": {
   "codemirror_mode": {
    "name": "ipython",
    "version": 3
   },
   "file_extension": ".py",
   "mimetype": "text/x-python",
   "name": "python",
   "nbconvert_exporter": "python",
   "pygments_lexer": "ipython3",
   "version": "3.6.3"
  }
 },
 "nbformat": 4,
 "nbformat_minor": 2
}
